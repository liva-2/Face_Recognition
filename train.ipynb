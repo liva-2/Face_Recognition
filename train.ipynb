{
 "cells": [
  {
   "cell_type": "code",
   "execution_count": 2,
   "metadata": {},
   "outputs": [],
   "source": [
    "import numpy as np\n",
    "import tensorflow as tf\n",
    "import keras\n",
    "from keras.models import Sequential\n",
    "from keras.layers import Conv2D,MaxPooling2D,Dense,Flatten,Dropout\n",
    "import matplotlib.pyplot as plt\n",
    "from keras.layers import BatchNormalization\n",
    "from keras_preprocessing import image\n",
    "from tensorflow.keras.preprocessing.image import ImageDataGenerator"
   ]
  },
  {
   "cell_type": "code",
   "execution_count": 7,
   "metadata": {},
   "outputs": [
    {
     "name": "stdout",
     "output_type": "stream",
     "text": [
      "Found 2562 images belonging to 31 classes.\n"
     ]
    }
   ],
   "source": [
    "train_dir=\"Original Images/\"\n",
    "generator = ImageDataGenerator()\n",
    "train_ds = generator.flow_from_directory(train_dir,target_size=(224, 224),batch_size=32)\n",
    "classes = list(train_ds.class_indices.keys())"
   ]
  },
  {
   "cell_type": "code",
   "execution_count": 8,
   "metadata": {},
   "outputs": [],
   "source": [
    "model = Sequential()\n",
    "model.add(Conv2D(32, kernel_size = (3, 3), activation='relu', input_shape=(224,224,3)))\n",
    "model.add(MaxPooling2D(pool_size=(2,2)))\n",
    "model.add(BatchNormalization())\n",
    "model.add(Conv2D(64, kernel_size=(3,3), activation='relu'))\n",
    "model.add(MaxPooling2D(pool_size=(2,2)))\n",
    "model.add(BatchNormalization())\n",
    "model.add(Conv2D(64, kernel_size=(3,3), activation='relu'))\n",
    "model.add(MaxPooling2D(pool_size=(2,2)))\n",
    "model.add(BatchNormalization())\n",
    "model.add(Conv2D(96, kernel_size=(3,3), activation='relu'))\n",
    "model.add(MaxPooling2D(pool_size=(2,2)))\n",
    "model.add(BatchNormalization())\n",
    "model.add(Conv2D(32, kernel_size=(3,3), activation='relu'))\n",
    "model.add(MaxPooling2D(pool_size=(2,2)))\n",
    "model.add(BatchNormalization())\n",
    "model.add(Dropout(0.2))\n",
    "model.add(Flatten())\n",
    "model.add(Dense(128, activation='relu'))\n",
    "#model.add(Dropout(0.3))\n",
    "model.add(Dense(len(classes),activation='softmax'))"
   ]
  },
  {
   "cell_type": "code",
   "execution_count": 9,
   "metadata": {},
   "outputs": [
    {
     "name": "stdout",
     "output_type": "stream",
     "text": [
      "Model: \"sequential\"\n",
      "_________________________________________________________________\n",
      " Layer (type)                Output Shape              Param #   \n",
      "=================================================================\n",
      " conv2d (Conv2D)             (None, 222, 222, 32)      896       \n",
      "                                                                 \n",
      " max_pooling2d (MaxPooling2D  (None, 111, 111, 32)     0         \n",
      " )                                                               \n",
      "                                                                 \n",
      " batch_normalization (BatchN  (None, 111, 111, 32)     128       \n",
      " ormalization)                                                   \n",
      "                                                                 \n",
      " conv2d_1 (Conv2D)           (None, 109, 109, 64)      18496     \n",
      "                                                                 \n",
      " max_pooling2d_1 (MaxPooling  (None, 54, 54, 64)       0         \n",
      " 2D)                                                             \n",
      "                                                                 \n",
      " batch_normalization_1 (Batc  (None, 54, 54, 64)       256       \n",
      " hNormalization)                                                 \n",
      "                                                                 \n",
      " conv2d_2 (Conv2D)           (None, 52, 52, 64)        36928     \n",
      "                                                                 \n",
      " max_pooling2d_2 (MaxPooling  (None, 26, 26, 64)       0         \n",
      " 2D)                                                             \n",
      "                                                                 \n",
      " batch_normalization_2 (Batc  (None, 26, 26, 64)       256       \n",
      " hNormalization)                                                 \n",
      "                                                                 \n",
      " conv2d_3 (Conv2D)           (None, 24, 24, 96)        55392     \n",
      "                                                                 \n",
      " max_pooling2d_3 (MaxPooling  (None, 12, 12, 96)       0         \n",
      " 2D)                                                             \n",
      "                                                                 \n",
      " batch_normalization_3 (Batc  (None, 12, 12, 96)       384       \n",
      " hNormalization)                                                 \n",
      "                                                                 \n",
      " conv2d_4 (Conv2D)           (None, 10, 10, 32)        27680     \n",
      "                                                                 \n",
      " max_pooling2d_4 (MaxPooling  (None, 5, 5, 32)         0         \n",
      " 2D)                                                             \n",
      "                                                                 \n",
      " batch_normalization_4 (Batc  (None, 5, 5, 32)         128       \n",
      " hNormalization)                                                 \n",
      "                                                                 \n",
      " dropout (Dropout)           (None, 5, 5, 32)          0         \n",
      "                                                                 \n",
      " flatten (Flatten)           (None, 800)               0         \n",
      "                                                                 \n",
      " dense (Dense)               (None, 128)               102528    \n",
      "                                                                 \n",
      " dense_1 (Dense)             (None, 31)                3999      \n",
      "                                                                 \n",
      "=================================================================\n",
      "Total params: 247,071\n",
      "Trainable params: 246,495\n",
      "Non-trainable params: 576\n",
      "_________________________________________________________________\n"
     ]
    }
   ],
   "source": [
    "model.compile(\n",
    "    loss = 'categorical_crossentropy',\n",
    "    optimizer = 'adam',\n",
    "    metrics = [\"accuracy\"])\n",
    "model.summary()"
   ]
  },
  {
   "cell_type": "code",
   "execution_count": 10,
   "metadata": {},
   "outputs": [
    {
     "name": "stdout",
     "output_type": "stream",
     "text": [
      "Epoch 1/30\n",
      "81/81 [==============================] - 132s 2s/step - loss: 3.4903 - accuracy: 0.0808\n",
      "Epoch 2/30\n",
      "81/81 [==============================] - 115s 1s/step - loss: 2.7518 - accuracy: 0.2229\n",
      "Epoch 3/30\n",
      "81/81 [==============================] - 134s 2s/step - loss: 2.3065 - accuracy: 0.3224\n",
      "Epoch 4/30\n",
      "81/81 [==============================] - 133s 2s/step - loss: 1.9845 - accuracy: 0.4048\n",
      "Epoch 5/30\n",
      "81/81 [==============================] - 136s 2s/step - loss: 1.6772 - accuracy: 0.5000\n",
      "Epoch 6/30\n",
      "81/81 [==============================] - 134s 2s/step - loss: 1.3311 - accuracy: 0.5941\n",
      "Epoch 7/30\n",
      "81/81 [==============================] - 132s 2s/step - loss: 1.1206 - accuracy: 0.6674\n",
      "Epoch 8/30\n",
      "81/81 [==============================] - 134s 2s/step - loss: 0.8439 - accuracy: 0.7600\n",
      "Epoch 9/30\n",
      "81/81 [==============================] - 133s 2s/step - loss: 0.6933 - accuracy: 0.7947\n",
      "Epoch 10/30\n",
      "81/81 [==============================] - 133s 2s/step - loss: 0.6056 - accuracy: 0.8263\n",
      "Epoch 11/30\n",
      "81/81 [==============================] - 135s 2s/step - loss: 0.4920 - accuracy: 0.8622\n",
      "Epoch 12/30\n",
      "81/81 [==============================] - 132s 2s/step - loss: 0.3637 - accuracy: 0.8919\n",
      "Epoch 13/30\n",
      "81/81 [==============================] - 134s 2s/step - loss: 0.2265 - accuracy: 0.9473\n",
      "Epoch 14/30\n",
      "81/81 [==============================] - 135s 2s/step - loss: 0.2239 - accuracy: 0.9391\n",
      "Epoch 15/30\n",
      "81/81 [==============================] - 132s 2s/step - loss: 0.2783 - accuracy: 0.9173\n",
      "Epoch 16/30\n",
      "81/81 [==============================] - 136s 2s/step - loss: 0.1627 - accuracy: 0.9563\n",
      "Epoch 17/30\n",
      "81/81 [==============================] - 136s 2s/step - loss: 0.2598 - accuracy: 0.9173\n",
      "Epoch 18/30\n",
      "81/81 [==============================] - 137s 2s/step - loss: 0.3221 - accuracy: 0.9028\n",
      "Epoch 19/30\n",
      "81/81 [==============================] - 136s 2s/step - loss: 0.1410 - accuracy: 0.9645\n",
      "Epoch 20/30\n",
      "81/81 [==============================] - 138s 2s/step - loss: 0.0893 - accuracy: 0.9789\n",
      "Epoch 21/30\n",
      "81/81 [==============================] - 138s 2s/step - loss: 0.0686 - accuracy: 0.9848\n",
      "Epoch 22/30\n",
      "81/81 [==============================] - 137s 2s/step - loss: 0.1087 - accuracy: 0.9742\n",
      "Epoch 23/30\n",
      "81/81 [==============================] - 137s 2s/step - loss: 0.0643 - accuracy: 0.9867\n",
      "Epoch 24/30\n",
      "81/81 [==============================] - 136s 2s/step - loss: 0.3841 - accuracy: 0.8767\n",
      "Epoch 25/30\n",
      "81/81 [==============================] - 138s 2s/step - loss: 0.1571 - accuracy: 0.9477\n",
      "Epoch 26/30\n",
      "81/81 [==============================] - 137s 2s/step - loss: 0.0913 - accuracy: 0.9766\n",
      "Epoch 27/30\n",
      "81/81 [==============================] - 138s 2s/step - loss: 0.0530 - accuracy: 0.9879\n",
      "Epoch 28/30\n",
      "81/81 [==============================] - 137s 2s/step - loss: 0.0387 - accuracy: 0.9918\n",
      "Epoch 29/30\n",
      "81/81 [==============================] - 138s 2s/step - loss: 0.0341 - accuracy: 0.9926\n",
      "Epoch 30/30\n",
      "81/81 [==============================] - 139s 2s/step - loss: 0.0322 - accuracy: 0.9934\n"
     ]
    }
   ],
   "source": [
    "history = model.fit(train_ds,epochs= 30, batch_size=32)"
   ]
  },
  {
   "cell_type": "code",
   "execution_count": 12,
   "metadata": {},
   "outputs": [],
   "source": [
    "model.save('attend.h5')"
   ]
  }
 ],
 "metadata": {
  "kernelspec": {
   "display_name": "Python 3",
   "language": "python",
   "name": "python3"
  },
  "language_info": {
   "codemirror_mode": {
    "name": "ipython",
    "version": 3
   },
   "file_extension": ".py",
   "mimetype": "text/x-python",
   "name": "python",
   "nbconvert_exporter": "python",
   "pygments_lexer": "ipython3",
   "version": "3.10.5"
  },
  "orig_nbformat": 4
 },
 "nbformat": 4,
 "nbformat_minor": 2
}
